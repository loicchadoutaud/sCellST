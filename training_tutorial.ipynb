{
 "cells": [
  {
   "metadata": {},
   "cell_type": "code",
   "source": [
    "import warnings\n",
    "warnings.filterwarnings(\"ignore\")\n",
    "\n",
    "from pathlib import Path\n",
    "from scellst.submit_function import download_data, run_ssl, embed_cells\n",
    "from scellst.train import train_and_save\n",
    "\n",
    "%load_ext autoreload\n",
    "%autoreload 2"
   ],
   "id": "c645060f66e90c4",
   "outputs": [],
   "execution_count": null
  },
  {
   "metadata": {},
   "cell_type": "code",
   "source": [
    "PATH_DATASET = Path(\"hest_data\")\n",
    "SAMPLE_IDS = [\"TENX39\"]\n",
    "tag = \"imagenet-rn50\""
   ],
   "id": "c005d0ac0967a15e",
   "outputs": [],
   "execution_count": null
  },
  {
   "metadata": {},
   "cell_type": "markdown",
   "source": "# Download data from the HEST database and convert to sCellST format",
   "id": "1acedc9eed5f3a39"
  },
  {
   "metadata": {},
   "cell_type": "markdown",
   "source": [
    "For this step, you need to have acces to loggin to your hugging face account (all steps are explained here: https://huggingface.co/datasets/MahmoodLab/hest).\n",
    "\n",
    "Then, if you don't want to do it from the command line, you can use the following code from the command line:\n",
    "```bash\n",
    "huggingface-cli login"
   ],
   "id": "f45d2cb9d2668286"
  },
  {
   "metadata": {},
   "cell_type": "code",
   "source": "download_data(PATH_DATASET, None, SAMPLE_IDS)",
   "id": "7a23db465f7c77d2",
   "outputs": [],
   "execution_count": null
  },
  {
   "metadata": {},
   "cell_type": "markdown",
   "source": "# Generate cell embeddings",
   "id": "a618d9664d8b3b74"
  },
  {
   "metadata": {},
   "cell_type": "markdown",
   "source": "To get better results, we recommend training a SSL model with the following command which can be quite long. You can also skip this step and use the pre-trained model on imagenet but the results ill not be as good. For this tutorial, we will use embeddings obtained from a resnet50 pretrained on imagenet.\n",
   "id": "bb6ba9bee745b63c"
  },
  {
   "metadata": {},
   "cell_type": "code",
   "source": [
    "# tag = \"moco-TENX39-rn50\"\n",
    "# run_ssl(PATH_DATASET, None, SAMPLE_IDS, tag, 1, 4)"
   ],
   "id": "5cd62bdfe379e9c3",
   "outputs": [],
   "execution_count": null
  },
  {
   "metadata": {},
   "cell_type": "code",
   "source": "tag = \"imagenet-rn50\"",
   "id": "9f451dd47821c0bb",
   "outputs": [],
   "execution_count": null
  },
  {
   "metadata": {},
   "cell_type": "code",
   "source": "embed_cells(PATH_DATASET, None, SAMPLE_IDS, tag, \"resnet50\", \"train\")",
   "id": "b34aa735e319ec58",
   "outputs": [],
   "execution_count": null
  },
  {
   "metadata": {},
   "cell_type": "markdown",
   "source": "# Train the model",
   "id": "de9a07cef00271a6"
  },
  {
   "metadata": {},
   "cell_type": "markdown",
   "source": [
    "To train the model, simply specify the tag to select the correct cell embeddings and the genes you want to train on.\n",
    "The genes can either be the name of a file starting with \"gene\" and finishing with \".csv\" in data/ (example: \"1000_hvg\" for the file name \"genes_1000_hvg.csv\") or \"HVG:1000\" or a list of gene names."
   ],
   "id": "9e5fbfd6179e0b3b"
  },
  {
   "metadata": {},
   "cell_type": "code",
   "source": [
    "additional_kwargs = {\"data_dir\": PATH_DATASET, \"save_dir_tag\": \"test\", \"embedding_tag\": f\"{tag}_train\", \"genes\": \"HVG:1000\", \"list_training_ids\": SAMPLE_IDS}\n",
    "config_path = Path(\"config/gene_default.yaml\")\n",
    "train_and_save(config_path, additional_kwargs)"
   ],
   "id": "f3f7c3988cc47f30",
   "outputs": [],
   "execution_count": null
  }
 ],
 "metadata": {
  "kernelspec": {
   "display_name": "Python 3",
   "language": "python",
   "name": "python3"
  },
  "language_info": {
   "codemirror_mode": {
    "name": "ipython",
    "version": 2
   },
   "file_extension": ".py",
   "mimetype": "text/x-python",
   "name": "python",
   "nbconvert_exporter": "python",
   "pygments_lexer": "ipython2",
   "version": "2.7.6"
  }
 },
 "nbformat": 4,
 "nbformat_minor": 5
}
